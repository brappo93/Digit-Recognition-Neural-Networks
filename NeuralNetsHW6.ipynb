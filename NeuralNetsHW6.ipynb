{
 "cells": [
  {
   "cell_type": "markdown",
   "metadata": {},
   "source": [
    "## Neural Networks: Homework 6"
   ]
  },
  {
   "cell_type": "code",
   "execution_count": 4,
   "metadata": {
    "collapsed": false
   },
   "outputs": [],
   "source": [
    "import numpy as np\n",
    "from scipy import signal\n",
    "import scipy.stats as st\n",
    "from sklearn import cross_validation\n",
    "from sklearn import preprocessing\n",
    "import sklearn.linear_model as lm\n",
    "import matplotlib.pyplot as plt\n",
    "import scipy.io\n",
    "\n",
    "from sklearn.cross_validation import KFold\n",
    "#from sklearn.preprocessing import scale, normalize\n",
    "%matplotlib inline\n",
    "\n",
    "dig_train_data = scipy.io.loadmat('dataset/train.mat')\n",
    "\n",
    "dig_test_data = scipy.io.loadmat('dataset/test.mat')\n",
    "X = dig_train_data['train_images']\n",
    "#print X.shape\n",
    "X = X.T\n",
    "for i in range(len(X)):\n",
    "    row = X[i]\n",
    "    X[i] = np.rot90(np.fliplr(row))\n",
    "    \n",
    "Y = dig_train_data['train_labels']"
   ]
  },
  {
   "cell_type": "code",
   "execution_count": 5,
   "metadata": {
    "collapsed": false
   },
   "outputs": [
    {
     "name": "stdout",
     "output_type": "stream",
     "text": [
      "(50000, 785)\n"
     ]
    }
   ],
   "source": [
    "X = X.reshape((60000, 28 * 28)).astype(float)\n",
    "\n",
    "#More preprocessing: normalize the columns of X using sklearn.precossing with l2 norm\n",
    "X = preprocessing.normalize(X, norm='l2',axis=1)\n",
    "\n",
    "#Let's shuffle our data and correspoding labels in the beginning.\n",
    "shuff =  np.arange(60000)\n",
    "np.random.shuffle(shuff) #we \n",
    "#Randomly build a shuffle array\n",
    "#Index this into our training data and labels to randomize them\n",
    "#They use the same random shuffled array so an image still corresponds to the correct label via a shared index\n",
    "Y = Y[shuff]\n",
    "X = X[shuff]\n",
    "\n",
    "Y_new = 0.15 * np.ones((60000, 10)).astype(float)\n",
    "#print Y_new\n",
    "#print Y\n",
    "for i in range(60000):\n",
    "    ind = Y[i][0]\n",
    "    #print ind\n",
    "    #A = np.zeros((1,10)).astype(int)\n",
    "    #A[0][ind] = 0.85\n",
    "    Y_new[i][ind] = 0.85\n",
    "#print Y.shape[0] \n",
    "Y = Y_new\n",
    "\n",
    "\n",
    "#With this, we have expanded Y into a matrix of dimensions 60,000 by 10\n",
    "\n",
    "X_plus_1 = np.column_stack((X, np.ones(60000)))\n",
    "\n",
    "X_test = X_plus_1[:10000]\n",
    "Y_test = Y[:10000]\n",
    "#print X_test.shape\n",
    "#print Y_test.shape\n",
    "X_train = X_plus_1[10000:]\n",
    "Y_train = Y[10000:]\n",
    "#print X_train.shape\n",
    "#print Y_train.shape\n",
    "\n",
    "print X_train.shape"
   ]
  },
  {
   "cell_type": "markdown",
   "metadata": {},
   "source": [
    "We need to transform Y where each y input is now a 10 by 1 vector of all 0s save a 1 where the i corresponds to the actual class label. The line of code below will append a column of 1s to the end of the matrix. So we now have 785 features.\n",
    "Let's first set aside 10,000 data points and their corresponding labels for testing, to see how well our accuracy is before we try to submit to Kaggle.\n",
    "Since we've already randomly shuffled our data/labels, we can just take the first 10,000 data points for our test data, while the last 50,000 will be for training.\n",
    "We will have 785 units in the input layer. We will have 201 units in the hidden layer"
   ]
  },
  {
   "cell_type": "code",
   "execution_count": 18,
   "metadata": {
    "collapsed": false
   },
   "outputs": [],
   "source": [
    "class NeuralNet(object):\n",
    "    \n",
    "    def __init__(self, X_tr, Y_tr, N):\n",
    "        self.inputLayers = 785 \n",
    "        self.numHidden = 201 #two hundred and one hidden layers\n",
    "        self.outputLayers = 10\n",
    "        self.epsilon = 0.01\n",
    "        self.numIters = 60000\n",
    "        self.Xtr = X_tr\n",
    "        self.Ytr = Y_tr\n",
    "        if N < X_tr.shape[0]:\n",
    "            self.batch_size = N #if N =1, this is just stochastic gradient descent\n",
    "        else: \n",
    "            print \"Set batch to 1\"\n",
    "            self.batch_size = 1\n",
    "        \n",
    "        self.V = 0.1 * np.random.randn(200, self.inputLayers) + 0\n",
    "        self.W = 0.1 * np.random.randn(10, self.numHidden) + 0\n",
    "        \n",
    "    def stochastic_forward(self, x): \n",
    "        #x is a 1 x 785 data point array\n",
    "        \n",
    "        self.z2 = np.dot(self.V, x.T) #(200,1)\n",
    "        #print self.z2.shape\n",
    "        \n",
    "        self.a2 = np.tanh(self.z2)\n",
    "        \n",
    "        #print self.a2.shape\n",
    "        \n",
    "        #Now we add a row of 1s to a2, which are the hidden layer bias weights\n",
    "        #print self.a2.shape\n",
    "        a = np.matrix(np.ones(self.a2.shape[1]))\n",
    "        #print a.shape\n",
    "        self.a2 = np.append(self.a2, a, axis=0)\n",
    "        #print self.a2.shape\n",
    "        \n",
    "        self.z3 = np.dot(self.W, self.a2)\n",
    "        \n",
    "        yHat = self.sigmoid(self.z3)\n",
    "        \n",
    "        #yHat[yHat > 1.0] = 1.0\n",
    "        #yHat[yHat <= 0.0] = 0.0000001\n",
    "        \n",
    "        return yHat \n",
    "    \n",
    "    def matrix_forward_pass(self, X_train):#, Y_train):\n",
    "        TT = np.tanh(np.dot(self.V, X_train.T))\n",
    "        v = np.ones((TT.shape[1]))\n",
    "        #print v.shape\n",
    "        #print TT.shape\n",
    "        h_1 = np.append(TT, [v], axis=0) #add row of 1s to TT\n",
    "        \n",
    "        siggy = (self.sigmoid(np.dot(self.W, h_1))).T\n",
    "\n",
    "        Y_predicted = np.zeros(siggy.shape)\n",
    "\n",
    "        for i in range(siggy.shape[0]):\n",
    "            J = np.argmax(siggy[i])\n",
    "            #print J\n",
    "            Y_predicted[i][J] = 1\n",
    "        return Y_predicted.astype(int)\n",
    "    \n",
    "    def mean_backprop(self, X, y):\n",
    "        #self.yHat = self.stochastic_forward(X)\n",
    "        \n",
    "        delta3 = np.multiply(-(y - self.yHat), self.sigmoidPrime(self.z3))\n",
    "        dJdW = np.dot(delta3, self.a2.T)\n",
    "        \n",
    "        #print delta3.shape\n",
    "        #print self.W.T.shape\n",
    "        D = self.tanh_deriv(self.z2)\n",
    "        #print D.shape\n",
    "        C = np.dot(self.W.T, delta3)[:200]\n",
    "        delta2 = np.multiply(C, D)\n",
    "        dJdV = np.dot(delta2, X)\n",
    "        \n",
    "        return dJdV, dJdW\n",
    "        \n",
    "        \n",
    "    def trainNeuralNetwork_mean(self, X_train, Y_train):# learn_rate):\n",
    "        #X is the images...i.e. the data set, which is 50,000 by (784 + 1)\n",
    "        #Y is the self of corresponding labels of size 50,000 by 10\n",
    "        iterations = 0\n",
    "        #rand_index_array = \n",
    "        while iterations < self.numIters:\n",
    "            #rand_index = np.random.random_integers(0, X_train.shape[0]-1) for stochastic gradient descent\n",
    "            rand_index = np.random.choice(X_train.shape[0], self.batch_size, replace=False)\n",
    "            rand_X_pt = np.matrix(X_train[rand_index])\n",
    "\n",
    "            rand_Y_pt = np.matrix(Y_train[rand_index]).T\n",
    "            \n",
    "            self.yHat = self.stochastic_forward(rand_X_pt)          \n",
    "            \n",
    "            dLdV, dLdW = self.mean_backprop(rand_X_pt, rand_Y_pt)\n",
    "            \n",
    "            #stochastic update rule\n",
    "            self.V = self.V + self.epsilon * dLdV\n",
    "            self.W = self.W + self.epsilon * dLdW\n",
    "            \n",
    "            #Let's check our error rate calculations here\n",
    "            if np.mod(iterations, 1000) == 0:\n",
    "                self.trainerror(X_train, Y_train)\n",
    "                self.error(self.Xtr, self.Ytr)\n",
    "                print \"Iteration Number: \" + str(iterations)\n",
    "                #self.calc_mean_error(rand_Y_pt)\n",
    "                #self.epsilon /= 0.5\n",
    "                print \"\\n\"\n",
    "            \n",
    "            iterations += 1\n",
    "\n",
    "        #return self.V, self.W\n",
    "        return self.Y_test_labels\n",
    "        \n",
    "    \n",
    "    def trainNeuralNetwork_crossetro(self, X_train, Y_train):# learn_rate):\n",
    "        #X is the images...i.e. the data set, which is 50,000 by (784 + 1)\n",
    "        #Y is the self of corresponding labels of size 50,000 by 10\n",
    "        iterations = 0\n",
    "        while iterations < self.numIters:\n",
    "            #rand_index = np.random.random_integers(0, X_train.shape[0]-1)\n",
    "            rand_index = np.random.choice(X_train.shape[0], self.batch_size, replace=False)\n",
    "\n",
    "            rand_X_pt = np.matrix(X_train[rand_index])\n",
    "\n",
    "            rand_Y_pt = np.matrix(Y_train[rand_index]).T\n",
    "            \n",
    "            self.yHat = self.stochastic_forward(rand_X_pt)          \n",
    "            \n",
    "            dLdV, dLdW = self.cross_entro_backprop(rand_X_pt, rand_Y_pt)\n",
    "            \n",
    "            #stochastic update rule\n",
    "            self.V = self.V + self.epsilon * dLdV\n",
    "            self.W = self.W + self.epsilon * dLdW\n",
    "            \n",
    "            if np.mod(iterations, 1000) == 0:\n",
    "                self.trainerror(X_train, Y_train)\n",
    "                self.error(self.Xtr, self.Ytr)\n",
    "                print \"Iteration Number: \" + str(iterations)\n",
    "                #self.calc_mean_error(rand_Y_pt)\n",
    "                #self.epsilon /= 0.5\n",
    "                print \"\\n\"\n",
    "            \n",
    "            iterations += 1\n",
    "\n",
    "        #return self.V, self.W\n",
    "        return self.Y_test_labels\n",
    "    \n",
    "    def cross_entro_backprop(self, x, y):\n",
    "        \n",
    "        delta3 = np.multiply(-2.0 * np.multiply(y, self.yHat) - y + self.yHat, self.sigmoidPrime(self.z3))\n",
    "        dJdW = np.dot(delta3, self.a2.T)\n",
    "        #print dJdW.shape\n",
    "        \n",
    "        #print delta3.shape\n",
    "        #print self.W.T.shape\n",
    "        D = self.tanh_deriv(self.z2)\n",
    "        #print D.shape\n",
    "        C = np.dot(self.W.T, delta3)\n",
    "        #print C\n",
    "        C = C[:200]\n",
    "        #print C\n",
    "        delta2 = np.multiply(C, D)\n",
    "        dJdV = np.dot(delta2, x)\n",
    "        #print dJdV, dJdW\n",
    "        return dJdV, dJdW\n",
    "\n",
    "    def sigmoid(self, z):\n",
    "        #we \n",
    "        \n",
    "        return 1.0/(1.0 + np.exp(z))\n",
    "    \n",
    "    def tanh_deriv(self, z):\n",
    "        return 1.0 - np.multiply(np.tanh(z), np.tanh(z))\n",
    "    \n",
    "    def sigmoidPrime(self, z):\n",
    "        return np.exp(-z)/(1.0 + np.multiply(np.exp(-z), np.exp(-z)))\n",
    "    \n",
    "    def error(self, X_test, Y_test):\n",
    "        err = 0.0\n",
    "        #print np.argmax(Y_test_labels[0])\n",
    "        self.Y_test_labels = self.matrix_forward_pass(X_test)#, Y_test)\n",
    "        #print self.Y_test_labels.shape\n",
    "        for i in range(X_test.shape[0]):\n",
    "            pred_max = np.argmax(self.Y_test_labels[i])\n",
    "            true_max = np.argmax(Y_test[i])\n",
    "            #print pred_max, true_max\n",
    "            if true_max != pred_max:\n",
    "                err += 1.0\n",
    "        err = err / X_test.shape[0]\n",
    "        print \"Classification Accuracy: \" + str(1.0 - err)\n",
    "        a = np.multiply(self.Y_test_labels - Y_test, self.Y_test_labels - Y_test)\n",
    "        #print a.shape #prints (10,10)\n",
    "        #print a\n",
    "        print \"Training Error: \" + str(a.sum())\n",
    "        #print self.W.item(0)\n",
    "        \n",
    "    def trainerror(self, X_train, Y_train):\n",
    "        err = 0.0\n",
    "        self.Y_train_labels = self.matrix_forward_pass(X_train)\n",
    "        for i in range(X_train.shape[0]):\n",
    "            pred_max = np.argmax(self.Y_train_labels[i])\n",
    "            true_max = np.argmax(Y_train[i])\n",
    "            if true_max != pred_max:\n",
    "                err += 1.0\n",
    "        err = err / X_train.shape[0]\n",
    "        print \"Training Accuracy: \" + str(1.0 - err)\n",
    "        \n",
    "        "
   ]
  },
  {
   "cell_type": "code",
   "execution_count": 12,
   "metadata": {
    "collapsed": false
   },
   "outputs": [],
   "source": [
    "NN = NeuralNet(X_test, Y_test, 1)\n",
    "Y_test_Labels = NN.trainNeuralNetwork_mean(X_train, Y_train)"
   ]
  },
  {
   "cell_type": "code",
   "execution_count": 13,
   "metadata": {
    "collapsed": false
   },
   "outputs": [
    {
     "data": {
      "text/plain": [
       "array([[0, 0, 0, ..., 0, 0, 1],\n",
       "       [0, 0, 0, ..., 0, 0, 0],\n",
       "       [0, 0, 0, ..., 0, 0, 0],\n",
       "       ..., \n",
       "       [0, 0, 0, ..., 0, 0, 0],\n",
       "       [0, 0, 0, ..., 0, 0, 0],\n",
       "       [0, 0, 0, ..., 0, 0, 1]])"
      ]
     },
     "execution_count": 13,
     "metadata": {},
     "output_type": "execute_result"
    }
   ],
   "source": [
    "NN_cross = NeuralNet(X_test, Y_test, 1)\n",
    "NN_cross.trainNeuralNetwork_crossetro(X_train, Y_train)"
   ]
  },
  {
   "cell_type": "code",
   "execution_count": 14,
   "metadata": {
    "collapsed": false
   },
   "outputs": [],
   "source": [
    "X_kaggle = dig_test_data['test_images']\n",
    "#print X_kaggle.shape\n",
    "#plt.imshow(X_kaggle[4])\n",
    "#This is a lovely eight too"
   ]
  },
  {
   "cell_type": "code",
   "execution_count": 15,
   "metadata": {
    "collapsed": false
   },
   "outputs": [],
   "source": [
    "X_kaggle = X_kaggle.reshape((X_kaggle.shape[0], 28 * 28)).astype(float)\n",
    "X_kaggle = preprocessing.normalize(X_kaggle, norm='l2',axis=1)\n",
    "X_kaggle = np.column_stack((X_kaggle, np.ones(10000)))\n",
    "Y_labels = NN.matrix_forward_pass(X_kaggle)"
   ]
  },
  {
   "cell_type": "code",
   "execution_count": 84,
   "metadata": {
    "collapsed": false
   },
   "outputs": [],
   "source": [
    "digit_kaggle = open(\"BestKaggle.csv\", \"w+\")\n",
    "digit_kaggle.write(\"Id,Category\\n\")\n",
    "class_array = np.argmax(Y_labels, axis = 1)\n",
    "for i in range(class_array.size):\n",
    "    digit_kaggle.write(str(i+1) + \",\" + str(class_array[i]) + \"\\n\")\n",
    "digit_kaggle.close()"
   ]
  },
  {
   "cell_type": "markdown",
   "metadata": {
    "collapsed": true
   },
   "source": [
    "## Problem 2: Data and Graphs"
   ]
  },
  {
   "cell_type": "markdown",
   "metadata": {},
   "source": [
    "For the initialization parts, I decided to start with a learning rate of 0.01, going through 100k iterations (basically twice as much as the number of training data points as a decent training metric). \n",
    "I initialized the V and W training weight matrices using the piece of code:\n",
    "\n",
    "        self.V = 0.1 * np.random.randn(200, self.inputLayers) + 0\n",
    "        self.W = 0.1 * np.random.randn(10, self.numHidden) + 0\n",
    "        \n",
    "where self.inputLayers = 785 and self.numHidden = 201\n"
   ]
  },
  {
   "cell_type": "markdown",
   "metadata": {
    "collapsed": true
   },
   "source": [
    "Testing our data on a neural network that implemented mean loss with a minbatch size of 250 gave a Kaggle score of: \n",
    "\n",
    "    0.96940.\n",
    "    \n",
    "So only 306 were predicted wrong."
   ]
  },
  {
   "cell_type": "markdown",
   "metadata": {},
   "source": [
    "Running on the network that prediected the kaggle test set I received the error values:\n",
    "    0.8921\n",
    "    0.1112\n",
    "    0.0851\n",
    "    0.0668\n",
    "    0.0632\n",
    "    0.0539\n",
    "    0.052\n",
    "    0.0519\n",
    "    0.0468\n",
    "    0.0436\n",
    "    0.0466\n",
    "    0.0429\n",
    "    0.0399\n",
    "    0.0424\n",
    "    0.0411\n",
    "    0.0386\n",
    "    0.0378\n",
    "    0.0388\n",
    "    0.038\n",
    "    0.0383"
   ]
  },
  {
   "cell_type": "markdown",
   "metadata": {},
   "source": [
    "Running on mean with batch size of 1 took 9 minutes and 55 seconds.\n",
    "Running on cross with batch size of 1 took 9 minutes and 27 seconds."
   ]
  },
  {
   "cell_type": "markdown",
   "metadata": {},
   "source": [
    "Looking at the two loss functions running the same batch size and number of iterations, it seems that the cross-entropy loss function produced a lower error rate on the validation set that the mean loss function."
   ]
  },
  {
   "cell_type": "code",
   "execution_count": 44,
   "metadata": {
    "collapsed": false
   },
   "outputs": [
    {
     "data": {
      "image/png": "[encoded data removed]",
      "text/plain": [
       "<matplotlib.figure.Figure at 0x10f85dd50>"
      ]
     },
     "metadata": {},
     "output_type": "display_data"
    },
    {
     "data": {
      "text/plain": [
       "<matplotlib.text.Text at 0x1109cdf90>"
      ]
     },
     "execution_count": 44,
     "metadata": {},
     "output_type": "execute_result"
    },
    {
     "data": {
      "image/png": "[encoded data removed]",
      "text/plain": [
       "<matplotlib.figure.Figure at 0x10e636750>"
      ]
     },
     "metadata": {},
     "output_type": "display_data"
    }
   ],
   "source": [
    "train_acc_array = [0.10946, 0.29886, 0.42472, 0.48704, 0.50698, 0.55828, 0.60032, 0.6331, 0.6373, 0.65708, 0.6976,\n",
    "                  0.70458, 0.71454, 0.719, 0.73874, 0.74788, 0.74932, 0.76306,\n",
    "                  0.76304, 0.77168, 0.77112, 0.77282, 0.77888, 0.78332, 0.78212, 0.7907, 0.77882, 0.79704, 0.79162,\n",
    "                  0.79346, 0.79248, 0.80198, 0.79544, 0.8048, 0.80384,\n",
    "                  0.80896, 0.8074, 0.81004, 0.81362, 0.81098, 0.81586, 0.8165, 0.80962, 0.81714, 0.81194, \n",
    "                  0.81818, 0.81616, 0.8153, 0.81594, 0.81912, 0.82324, 0.82248, 0.82238, 0.82622, \n",
    "                  0.81928, 0.82452, 0.82238, 0.8295, 0.8304]\n",
    "\n",
    "class_acc_array = [0.1099, 0.3021, 0.4219, 0.4873, 0.5048, 0.5511, 0.6002, 0.6284, 0.6364, 0.6532, 0.6947,\n",
    "                  0.7019, 0.7105, 0.7156, 0.7337, 0.7082, 0.7462, 0.7458, 0.7611, 0.77, 0.7682, 0.7719,\n",
    "                  0.778, 0.7813, 0.7803, 0.7891, 0.7776, 0.7953, 0.7916, 0.7916, 0.7893, 0.7997, 0.7927,\n",
    "                  0.8054, 0.8023, 0.8055, 0.8073, 0.8091, 0.8129, 0.809, 0.8142, 0.8135, 0.8098, 0.8149, 0.8121,\n",
    "                   0.8168, 0.8149, 0.8167, 0.8144, 0.8193, 0.8209, 0.8212, 0.8225, 0.8249, 0.8174,\n",
    "                  0.8231, 0.8216, 0.8253, 0.8265]\n",
    "\n",
    "training_error_array = [14711.4, 12020.6, 10343.4, 9427.8, 9182.8, 8534.6, 7847.2, 7452.4, 7340.4, 7105.2, 6524.2,\n",
    "                       6423.4, 6303.0, 6231.6, 5978.2, 6335.2, 5803.2, 5808.8, 5594.6, 5470.0, 5495.2, 5443.4,\n",
    "                       5358.0, 5311.8, 5325.8, 5202.6, 5363.6, 5115.8, 5167.6, 5167.6, 5199.8, 5054.2, 5152.2,\n",
    "                       4974.4, 5017.8, 4973.0, 4947.8, 4922.6, 4869.4, 4924.0, 4851.2, 4861.0, 4912.8, 4841.4, 4880.6,\n",
    "                       4814.8, 4841.4, 4816.2, 4848.4, 4779.8, 4757.4, 4753.2, 4735.0, 4701.4, 4806.4,\n",
    "                       4726.6, 4747.6, 4695.8, 4679.0]\n",
    "\n",
    "iter_number = np.arange(0, 59000, 1000)\n",
    "\n",
    "train_acc_array = np.asarray(train_acc_array)\n",
    "class_acc_array = np.asarray(class_acc_array)\n",
    "training_error_array = np.asarray(training_error_array)\n",
    "\n",
    "plt.plot(iter_number, training_error_array, 'ro')\n",
    "plt.xlabel(\"Iteration Number of Stochastic Gradient Descent\")\n",
    "plt.ylabel(\"Mean Training Error\")\n",
    "plt.title(\"Mean Training Error v. Number of Iterations\")\n",
    "plt.show()\n",
    "plt.plot(iter_number, class_acc_array, 'bo')\n",
    "plt.xlabel(\"Iteration Number of Stochastic Gradient Descent\")\n",
    "plt.ylabel(\"Classification Accuracy\")\n",
    "plt.title(\"Classification Accuracy v. Number of Iterations\")"
   ]
  },
  {
   "cell_type": "code",
   "execution_count": 45,
   "metadata": {
    "collapsed": false
   },
   "outputs": [
    {
     "data": {
      "image/png": "[encoded data removed]",
      "text/plain": [
       "<matplotlib.figure.Figure at 0x10f7f5b50>"
      ]
     },
     "metadata": {},
     "output_type": "display_data"
    },
    {
     "data": {
      "text/plain": [
       "<matplotlib.text.Text at 0x110ceda10>"
      ]
     },
     "execution_count": 45,
     "metadata": {},
     "output_type": "execute_result"
    },
    {
     "data": {
      "image/png": "[encoded data removed]",
      "text/plain": [
       "<matplotlib.figure.Figure at 0x11077ecd0>"
      ]
     },
     "metadata": {},
     "output_type": "display_data"
    }
   ],
   "source": [
    "iter_cross = np.arange(0, 60000, 1000)\n",
    "\n",
    "train_acc_cross = [0.1164,0.49862,0.6159,0.64378,0.665,0.7399, 0.74962,0.72266,0.77328\n",
    "                    ,0.75214,0.76972,0.79216,0.7765,0.78576,0.79494,0.7962,0.797,0.80888\n",
    "                    ,0.80986,0.81246,0.81222,0.81724,0.81104,0.81972,0.81734,0.8168,0.81518,0.81654,0.82662,0.81888\n",
    "                    ,0.81954,0.82478,0.82872,0.82186,0.82076,0.8265,0.8304,0.82786,0.83582,0.83582\n",
    "                    ,0.83108,0.83438,0.83444,0.84092,0.83668,0.84014,0.8411\n",
    "                    ,0.84076,0.83988,0.8442,0.84382,0.83984,0.84506,0.84294,0.84062,0.8458,0.84568,0.84058,0.8464]\n",
    "\n",
    "class_acc_cross = [0.1151,0.4977,0.6161,0.6447,0.6668,0.7389,0.7526,0.7236,0.7741,0.7507,0.7724,\n",
    "                  0.776,0.7825,0.7923,0.7959,0.7967,0.7935,0.8064,0.8084,0.8079,0.8134,0.8171,0.8126,\n",
    "                  0.8187,0.8149,0.8144,0.8148,0.8144,0.8243,0.8204,0.8183,0.8228,0.8283,0.821,0.8215,0.8268,\n",
    "                  0.8277,0.8261, 0.8339,0.8347,0.8244,0.8306,0.8309,0.8361,0.8378,0.833,0.837,0.8389,\n",
    "                  0.8372,0.8379,0.8394,0.8385,0.8362,0.8431,0.8393,0.8404,0.8429,0.8431,0.8368,0.8436]\n",
    "\n",
    "\n",
    "train_error_cross = [14638.6,9282.2,7624.6,7224.2,6914.8,5905.4,5713.6,6119.6,5412.6,5740.2,5436.4,5386.0,\n",
    "                     5295.0,5157.8,5107.4,5096.2,5141.0,4960.4,4932.4,4939.4,4862.4,4810.6,4873.6,4788.2,\n",
    "                     4841.4,4848.4,4842.8,4848.4,4709.8,4764.4,4793.8,4730.8,4653.8,4756.0,4749.0,4674.8,\n",
    "                     4662.2,4684.6,4575.4,4564.2,4708.4,4621.6,4617.4,4544.6,4520.8,4588.0,4532.0,4505.4,\n",
    "                     4529.2,4519.4,4498.4,4511.0,4543.2,4446.6,4499.8,4484.4,4449.4,4446.6,4534.8,4439.6]\n",
    "\n",
    "train_x = np.asarray(train_acc_cross)\n",
    "class_x = np.asarray(class_acc_cross)\n",
    "train_err_x = np.asarray(train_error_cross)\n",
    "\n",
    "plt.plot(iter_cross, train_err_x, 'ro')\n",
    "plt.xlabel(\"Iteration Number of Stochastic Gradient Descent\")\n",
    "plt.ylabel(\"Cross Entropy Training Error\")\n",
    "plt.title(\"Cross Entropy Training Error v. Number of Iterations\")\n",
    "plt.show()\n",
    "plt.plot(iter_cross, class_x, 'bo')\n",
    "plt.xlabel(\"Iteration Number of Stochastic Gradient Descent\")\n",
    "plt.ylabel(\"Classification Accuracy\")\n",
    "plt.title(\"Classification Accuracy v. Number of Iterations\")"
   ]
  },
  {
   "cell_type": "markdown",
   "metadata": {},
   "source": [
    "It seems that both loss functions have very similar accuracies as the iterations tend towards infinity, though the cross entropy does perform a bit better. Also, the cross entropy makes noticeably better predictions at lower iterations, given by the steepness of the curve for the number of iterations less than 10,000."
   ]
  }
 ],
 "metadata": {
  "kernelspec": {
   "display_name": "Python 2",
   "language": "python",
   "name": "python2"
  },
  "language_info": {
   "codemirror_mode": {
    "name": "ipython",
    "version": 2
   },
   "file_extension": ".py",
   "mimetype": "text/x-python",
   "name": "python",
   "nbconvert_exporter": "python",
   "pygments_lexer": "ipython2",
   "version": "2.7.11"
  }
 },
 "nbformat": 4,
 "nbformat_minor": 0
}
